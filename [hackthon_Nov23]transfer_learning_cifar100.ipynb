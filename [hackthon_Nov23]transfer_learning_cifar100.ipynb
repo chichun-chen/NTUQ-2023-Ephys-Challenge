{
  "cells": [
    {
      "cell_type": "markdown",
      "metadata": {
        "id": "SzYUJRryCXi1"
      },
      "source": [
        "# Hybrid transfer learning for image classification (CIFAR)"
      ]
    },
    {
      "cell_type": "markdown",
      "metadata": {
        "id": "fKtM3VLWCXi5"
      },
      "source": [
        "This is an example of a hybrid network for image classification, developed according to the *classical-to-quantum transfer learning* scheme presented in [1].\n",
        "\n",
        "This notebook is inspired by the official PyTorch  [tutorial on transfer learning](https://pytorch.org/tutorials/beginner/transfer_learning_tutorial.html) by Sasank Chilamkurthy [2]."
      ]
    },
    {
      "cell_type": "markdown",
      "metadata": {
        "id": "Ea_mS-zACXi6"
      },
      "source": [
        "## General setup"
      ]
    },
    {
      "cell_type": "code",
      "source": [
        "# install pennylane\n",
        "!pip install pennylane==0.28"
      ],
      "metadata": {
        "id": "yGoBCl5NC6wL"
      },
      "execution_count": null,
      "outputs": []
    },
    {
      "cell_type": "code",
      "execution_count": 17,
      "metadata": {
        "id": "zlqStd21CXi7",
        "outputId": "f2a2394c-80dc-4b53-92d1-658b8eb492ab",
        "colab": {
          "base_uri": "https://localhost:8080/"
        }
      },
      "outputs": [
        {
          "output_type": "stream",
          "name": "stdout",
          "text": [
            "env: OMP_NUM_THREADS=1\n"
          ]
        }
      ],
      "source": [
        "# OpenMP: number of parallel threads.\n",
        "#%env OMP_NUM_THREADS=1\n",
        "\n",
        "# Plotting\n",
        "%matplotlib inline\n",
        "import matplotlib.pyplot as plt\n",
        "\n",
        "from tqdm import tqdm\n",
        "\n",
        "# PyTorch\n",
        "import torch\n",
        "import torch.nn as nn\n",
        "import torch.optim as optim\n",
        "from torch.optim import lr_scheduler\n",
        "import torchvision\n",
        "from torchvision import datasets, models, transforms\n",
        "\n",
        "# Pennylane\n",
        "import pennylane as qml\n",
        "from pennylane import numpy as np\n",
        "\n",
        "# Other tools\n",
        "import time\n",
        "import copy"
      ]
    },
    {
      "cell_type": "markdown",
      "metadata": {
        "id": "V-W0dpoICXi8"
      },
      "source": [
        "### Please choose and run only one of the following two cells, depending on the dataset of interest."
      ]
    },
    {
      "cell_type": "code",
      "execution_count": 253,
      "metadata": {
        "id": "l8oScpqVCXi9"
      },
      "outputs": [],
      "source": [
        "filtered_classes = ['bear', 'tiger']  # Subset of CIFAR ('plane', 'car', 'bird', 'cat','deer', 'dog', 'frog', 'horse', 'ship', 'truck')\n",
        "n_qubits = 4                       # Number of qubits\n",
        "quantum = True                    # If set to \"False\", the dressed quantum circuit is replaced by\n",
        "                                   # An enterily classical net (defined by the next parameter).\n",
        "classical_model = '512_n'          # Possible choices: '512_n','512_nq_n','551_512_n'. [nq=n_qubits, n=num_filtered_classes]\n",
        "step = 0.001                       # Learning rate\n",
        "batch_size = 8                     # Number of samples for each training step\n",
        "num_epochs = 3                     # Number of training epochs\n",
        "q_depth = 5                        # Depth of the quantum circuit (number of variational layers)\n",
        "gamma_lr_scheduler = 1             # Learning rate reduction applied every 10 epochs.\n",
        "max_layers = 15                    # Keep 15 even if not all are used.\n",
        "q_delta = 0.01                     # Initial spread of random quantum weights\n",
        "rng_seed = 0                       # Seed for random number generator\n",
        "start_time = time.time()           # start of the computation timer"
      ]
    },
    {
      "cell_type": "code",
      "source": [
        "filtered_classes = ['bear', 'tiger']  # Subset of CIFAR ('plane', 'car', 'bird', 'cat','deer', 'dog', 'frog', 'horse', 'ship', 'truck')\n",
        "n_qubits = 4                       # Number of qubits\n",
        "quantum = True                    # If set to \"False\", the dressed quantum circuit is replaced by\n",
        "                                   # An enterily classical net (defined by the next parameter).\n",
        "classical_model = '512_n'          # Possible choices: '512_n','512_nq_n','551_512_n'. [nq=n_qubits, n=num_filtered_classes]\n",
        "step = 0.001                       # Learning rate\n",
        "batch_size = 8                     # Number of samples for each training step\n",
        "num_epochs = 3                     # Number of training epochs\n",
        "q_depth = 3                        # Depth of the quantum circuit (number of variational layers)\n",
        "gamma_lr_scheduler = 1             # Learning rate reduction applied every 10 epochs.\n",
        "max_layers = 15                    # Keep 15 even if not all are used.\n",
        "q_delta = 0.01                     # Initial spread of random quantum weights\n",
        "rng_seed = 0                       # Seed for random number generator\n",
        "start_time = time.time()           # start of the computation timer"
      ],
      "metadata": {
        "id": "ATgB0OaL3hqH"
      },
      "execution_count": 223,
      "outputs": []
    },
    {
      "cell_type": "markdown",
      "metadata": {
        "id": "h7jH0j2HCXi_"
      },
      "source": [
        "Let us initialize a PennyLane with the default simulator."
      ]
    },
    {
      "cell_type": "code",
      "execution_count": 4,
      "metadata": {
        "id": "5rH-3IsuCXi_"
      },
      "outputs": [],
      "source": [
        "dev = qml.device('default.qubit', wires=n_qubits)"
      ]
    },
    {
      "cell_type": "markdown",
      "metadata": {
        "id": "87Z_09GxCXi_"
      },
      "source": [
        "Configure PyTorch to use CUDA, only if available. Otherwise simply use the CPU."
      ]
    },
    {
      "cell_type": "code",
      "execution_count": 5,
      "metadata": {
        "id": "wY7rUz0fCXi_"
      },
      "outputs": [],
      "source": [
        "device = torch.device(\"cuda:0\" if torch.cuda.is_available() else \"cpu\")"
      ]
    },
    {
      "cell_type": "markdown",
      "metadata": {
        "id": "79bNfj__CXi_"
      },
      "source": [
        "## Dataset loading\n",
        "\n",
        "**Remark:** It may take several minutes to download the CIFAR dataset (only the first time).\n",
        "The PyTorch packages `torchvision` and `torch.utils.data` are used for loading the dataset and performing standard preliminary image operations: resize, center, crop, normalize, *etc.* ."
      ]
    },
    {
      "cell_type": "code",
      "execution_count": 238,
      "metadata": {
        "id": "v9b6t26GCXi_",
        "outputId": "0683260e-6a93-411b-cd50-563688312495",
        "colab": {
          "base_uri": "https://localhost:8080/"
        }
      },
      "outputs": [
        {
          "output_type": "stream",
          "name": "stdout",
          "text": [
            "Files already downloaded and verified\n",
            "Files already downloaded and verified\n"
          ]
        }
      ],
      "source": [
        "# Fixed pre-processing operations\n",
        "data_transforms = {\n",
        "    'train': transforms.Compose([\n",
        "        #transforms.RandomResizedCrop(224),     # uncomment for data augmentation\n",
        "        #transforms.RandomHorizontalFlip(),     # uncomment for data augmentation\n",
        "        #transforms.ColorJitter(brightness=0.1, contrast=0.2, saturation=0.2, hue=0.1),\n",
        "        transforms.Resize(256),\n",
        "        transforms.CenterCrop(224),\n",
        "        transforms.ToTensor(),\n",
        "        # Normalize input channels using mean values and standard deviations of ImageNet.\n",
        "        transforms.Normalize([0.485, 0.456, 0.406], [0.229, 0.224, 0.225])\n",
        "    ]),\n",
        "    'val': transforms.Compose([\n",
        "        transforms.Resize(256),\n",
        "        transforms.CenterCrop(224),\n",
        "        transforms.ToTensor(),\n",
        "        transforms.Normalize([0.485, 0.456, 0.406], [0.229, 0.224, 0.225])\n",
        "    ]),\n",
        "}\n",
        "\n",
        "# 3, 88\n",
        "# =================== begin CIFAR dataset loading ===================\n",
        "trainset_full = torchvision.datasets.CIFAR100(root='./data', train=True,\n",
        "                                        download=True, transform=data_transforms['train'])\n",
        "testset_full = torchvision.datasets.CIFAR100(root='./data', train=False,\n",
        "                                       download=True, transform=data_transforms['val'])\n",
        "image_datasets_full={'train': trainset_full, 'val': testset_full}\n",
        "\n",
        "# CIFAR classes\n",
        "#class_names = ('plane', 'car', 'bird', 'cat',\n",
        "#           'deer', 'dog', 'frog', 'horse', 'ship', 'truck')\n",
        "\n",
        "# Get indices of samples associated to filtered_classes\n",
        "filtered_labels=[3, 88]\n",
        "sub_indices={'train': [], 'val': []}\n",
        "for phase in ['train', 'val']:\n",
        "    for idx, label in enumerate(image_datasets_full[phase].targets):\n",
        "        if label in filtered_labels:\n",
        "            sub_indices[phase].append(idx)\n",
        "\n",
        "# Initialize sub-datasets according to filtered indices\n",
        "image_datasets = {x: torch.utils.data.Subset(image_datasets_full[x], sub_indices[x])\n",
        "                for x in ['train', 'val']}\n",
        "\n",
        "def labels_to_filtered(labels):\n",
        "    \"\"\"Maps CIFAR labels (0,1,2,3,4,5,6,7,8,9) to the index of filtered_labels\"\"\"\n",
        "    return [filtered_labels.index(label) for label in labels]\n",
        "# =================== end CIFAR dataset loading ==========================\n",
        "\n",
        "# Number of samples\n",
        "dataset_sizes = {x: len(image_datasets[x]) for x in ['train', 'val']}\n",
        "\n",
        "# Initialize dataloader\n",
        "dataloaders = {x: torch.utils.data.DataLoader(image_datasets[x],\n",
        "                  batch_size=batch_size, shuffle=True, num_workers=0) for x in ['train', 'val']}\n",
        "\n",
        "# Function to plot images from tensors\n",
        "def imshow(inp, title=None):\n",
        "    \"\"\"Imshow for Tensor.\"\"\"\n",
        "    inp = inp.numpy().transpose((1, 2, 0))\n",
        "    # We apply the inverse of the initial normalization operation.\n",
        "    mean = np.array([0.485, 0.456, 0.406])\n",
        "    std = np.array([0.229, 0.224, 0.225])\n",
        "    inp = std * inp + mean\n",
        "    inp = np.clip(inp, 0, 1)\n",
        "    plt.imshow(inp)\n",
        "    if title is not None:\n",
        "        plt.title(title)"
      ]
    },
    {
      "cell_type": "markdown",
      "metadata": {
        "id": "dpnzpfm8CXjA"
      },
      "source": [
        "Let us show a batch of the test data, just to have an idea of the classification problem.<br>\n",
        "*Hint:* re-run the next cell to see more samples."
      ]
    },
    {
      "cell_type": "code",
      "execution_count": 7,
      "metadata": {
        "id": "eHNIxE3MCXjA",
        "outputId": "66a49a41-591c-451e-db81-dd5e72afd72d",
        "colab": {
          "base_uri": "https://localhost:8080/",
          "height": 128
        }
      },
      "outputs": [
        {
          "output_type": "display_data",
          "data": {
            "text/plain": [
              "<Figure size 640x480 with 1 Axes>"
            ],
            "image/png": "[encoded data removed]"
          },
          "metadata": {}
        }
      ],
      "source": [
        "# Get a batch of training data\n",
        "inputs, classes = next(iter(dataloaders['val']))\n",
        "\n",
        "# Make a grid from batch\n",
        "out = torchvision.utils.make_grid(inputs)\n",
        "#imshow(out, title=[class_names[x] for x in classes])\n",
        "imshow(out)"
      ]
    },
    {
      "cell_type": "markdown",
      "metadata": {
        "id": "kH085FV_CXjA"
      },
      "source": [
        "## Hybrid transfer learning model (classical-to-quantum).\n",
        "\n",
        "We first define some quantum layers that will compose the quantum circuit."
      ]
    },
    {
      "cell_type": "code",
      "execution_count": 254,
      "metadata": {
        "id": "RFLCmXEPCXjA"
      },
      "outputs": [],
      "source": [
        "def H_layer(nqubits):\n",
        "    \"\"\"Layer of single-qubit Hadamard gates.\n",
        "    \"\"\"\n",
        "    for idx in range(nqubits):\n",
        "        qml.Hadamard(wires=idx)\n",
        "\n",
        "def RY_layer(w):\n",
        "    \"\"\"Layer of parametrized qubit rotations around the y axis.\n",
        "    \"\"\"\n",
        "    for idx, element in enumerate(w):\n",
        "        qml.RY(element, wires=idx)\n",
        "\n",
        "def entangling_layer(nqubits):\n",
        "    \"\"\"Layer of CNOTs followed by another shifted layer of CNOT.\n",
        "    \"\"\"\n",
        "    # In other words it should apply something like :\n",
        "    # CNOT  CNOT  CNOT  CNOT...  CNOT\n",
        "    #   CNOT  CNOT  CNOT...  CNOT\n",
        "    for i in range(0, nqubits - 1, 2): # Loop over even indices: i=0,2,...N-2\n",
        "        qml.CNOT(wires=[i, i + 1])\n",
        "    for i in range(1, nqubits - 1,2): # Loop over odd indices:  i=1,3,...N-3\n",
        "        qml.CNOT(wires=[i, i + 1])"
      ]
    },
    {
      "cell_type": "code",
      "execution_count": 255,
      "metadata": {
        "id": "3yGrPuomCXjB"
      },
      "outputs": [],
      "source": [
        "@qml.qnode(dev, interface='torch', diff_method=\"backprop\")\n",
        "def q_net(q_in, q_weights_flat):\n",
        "\n",
        "        # Reshape weights\n",
        "        q_weights = q_weights_flat.reshape(max_layers, n_qubits)\n",
        "\n",
        "        # Start from state |+> , unbiased w.r.t. |0> and |1>\n",
        "        H_layer(n_qubits)\n",
        "\n",
        "        # Embed features in the quantum node\n",
        "        RY_layer(q_in)\n",
        "\n",
        "        # Sequence of trainable variational layers\n",
        "        for k in range(q_depth):\n",
        "            entangling_layer(n_qubits)\n",
        "            RY_layer(q_weights[k+1])\n",
        "\n",
        "        # Expectation values in the Z basis\n",
        "        return [qml.expval(qml.PauliZ(j)) for j in range(n_qubits)]"
      ]
    },
    {
      "cell_type": "code",
      "source": [
        "class Quantumnet(nn.Module):\n",
        "        def __init__(self):\n",
        "            super().__init__()\n",
        "            self.pre_net = nn.Linear(512, n_qubits)\n",
        "            self.q_params = nn.Parameter(q_delta * torch.randn(max_layers * n_qubits))\n",
        "            self.post_net = nn.Linear(n_qubits, len(filtered_classes))\n",
        "\n",
        "        def forward(self, input_features):\n",
        "            pre_out = self.pre_net(input_features)\n",
        "            q_in = torch.tanh(pre_out) * np.pi / 2.0\n",
        "\n",
        "            # Apply the quantum circuit to each element of the batch, and append to q_out\n",
        "            q_out = torch.Tensor(0, n_qubits)\n",
        "            q_out = q_out.to(device)\n",
        "            for elem in q_in:\n",
        "                q_out_elem = q_net(elem,self.q_params).float().unsqueeze(0)\n",
        "                q_out = torch.cat((q_out, q_out_elem))\n",
        "            return self.post_net(q_out)"
      ],
      "metadata": {
        "id": "btzlsE7E6DIy"
      },
      "execution_count": 256,
      "outputs": []
    },
    {
      "cell_type": "markdown",
      "metadata": {
        "id": "GwnFsd1VCXjB"
      },
      "source": [
        "## Training and results\n",
        "Before training the network we need to specify the *loss* function. We use the *relative entropy* as objective function."
      ]
    },
    {
      "cell_type": "markdown",
      "source": [
        "## QCNN\n"
      ],
      "metadata": {
        "id": "1iuaAtkbqQwr"
      }
    },
    {
      "cell_type": "code",
      "source": [
        "@qml.qnode(dev, interface='torch', diff_method=\"backprop\")\n",
        "def qcnn(q_in, q_weights_flat):\n",
        "\n",
        "        # Reshape weights\n",
        "        q_weights = q_weights_flat.reshape(15, n_qubits)\n",
        "\n",
        "        # Start from state |+> , unbiased w.r.t. |0> and |1>\n",
        "        H_layer(n_qubits)\n",
        "\n",
        "        # Embed features in the quantum node\n",
        "        RY_layer(q_in)\n",
        "\n",
        "        # Sequence of trainable variational layers\n",
        "        for k in range(q_depth):\n",
        "            entangling_layer(n_qubits)\n",
        "            RY_layer(q_weights[k])\n",
        "\n",
        "        qml.CNOT(wires=[0, 3])\n",
        "        qml.CNOT(wires=[1, 2])\n",
        "        qml.CNOT(wires=[0, 1])\n",
        "\n",
        "        # Expectation values in the Z basis\n",
        "        return [qml.expval(qml.PauliZ(0))]"
      ],
      "metadata": {
        "id": "Rb2qVVI5V2uf"
      },
      "execution_count": 104,
      "outputs": []
    },
    {
      "cell_type": "code",
      "source": [
        "class QCNNnet(nn.Module):\n",
        "        def __init__(self):\n",
        "            super().__init__()\n",
        "            self.pre_net = nn.Linear(512, n_qubits)\n",
        "            self.q_params = nn.Parameter(q_delta * torch.randn(max_layers * n_qubits))\n",
        "            #self.post_net = nn.Linear(n_qubits, len(filtered_classes))\n",
        "\n",
        "        def forward(self, input_features):\n",
        "            pre_out = self.pre_net(input_features)\n",
        "            q_in = torch.tanh(pre_out) * np.pi / 2.0\n",
        "\n",
        "            #print('qin size: ', q_in.shape)\n",
        "\n",
        "            #print('qcirc shape: ', qcnn(q_in[0] ,self.q_params).shape)\n",
        "\n",
        "            # Apply the quantum circuit to each element of the batch, and append to q_out\n",
        "            #q_out = torch.Tensor(0, n_qubits)\n",
        "            q_out = []\n",
        "\n",
        "            #\"\"\"\n",
        "            for elem in q_in:\n",
        "                q_out_elem = qcnn(elem, self.q_params).float()\n",
        "                if q_out_elem > 0:\n",
        "                  q_out_elem = 1\n",
        "                else:\n",
        "                  q_out_elem = 0\n",
        "                q_out.append(int(q_out_elem))\n",
        "                #print('qout: ', q_out)\n",
        "                #q_out_elem = nn.functional.relu(q_out_elem)\n",
        "                #q_out = q_out_elem\n",
        "                #q_out = torch.cat((q_out, q_out_elem))\n",
        "                #q_out = torch.Tensor(q_out)\n",
        "                #print('qout size: ', q_out.shape)\n",
        "            #\"\"\"\n",
        "            #return torch.LongTensor(q_out)\n",
        "            return torch.Tensor(q_out)"
      ],
      "metadata": {
        "id": "WjJW-0PNW04B"
      },
      "execution_count": 190,
      "outputs": []
    },
    {
      "cell_type": "code",
      "source": [
        "model_qcnn = torchvision.models.resnet18(pretrained=True)\n",
        "\n",
        "for param in model_qcnn.parameters():\n",
        "    param.requires_grad = False\n",
        "\n",
        "model_qcnn.fc = QCNNnet()"
      ],
      "metadata": {
        "id": "i1PUULGmXD-Z"
      },
      "execution_count": 191,
      "outputs": []
    },
    {
      "cell_type": "code",
      "source": [
        "criterion = nn.BCELoss()\n",
        "optimizer_hybrid = optim.Adam(model_qcnn.fc.parameters(), lr=step)\n",
        "exp_lr_scheduler = lr_scheduler.StepLR(optimizer_hybrid, step_size=3, gamma=gamma_lr_scheduler)"
      ],
      "metadata": {
        "id": "TULoJfdbXOjF"
      },
      "execution_count": 192,
      "outputs": []
    },
    {
      "cell_type": "code",
      "source": [
        "def train_qcnn(model, criterion, optimizer, scheduler, num_epochs):\n",
        "        since = time.time()\n",
        "        best_model_wts = copy.deepcopy(model.state_dict())\n",
        "        best_acc = 0.0\n",
        "        best_loss = 10000.0   # Large arbitrary number\n",
        "        best_acc_train = 0.0\n",
        "        best_loss_train = 10000.0  # Large arbitrary number\n",
        "        print('Training started:')\n",
        "        for epoch in range(num_epochs):\n",
        "\n",
        "            # Each epoch has a training and validation phase\n",
        "            for phase in ['train', 'val']:\n",
        "                if phase == 'train':\n",
        "                    # Set model to training mode\n",
        "                    scheduler.step()\n",
        "                    model.train()\n",
        "                else:\n",
        "                    # Set model to evaluate mode\n",
        "                    model.eval()\n",
        "\n",
        "                # Iteration loop\n",
        "                running_loss = 0.0\n",
        "                running_corrects = 0\n",
        "                n_batches = dataset_sizes[phase] // batch_size\n",
        "                it = 0\n",
        "                for inputs, cifar_labels in tqdm(dataloaders[phase]):\n",
        "                    since_batch = time.time()\n",
        "                    batch_size_ = len(inputs)\n",
        "                    inputs = inputs.to(device)\n",
        "                    labels = torch.tensor(labels_to_filtered(cifar_labels))\n",
        "                    labels = labels.to(device)\n",
        "                    optimizer.zero_grad()\n",
        "\n",
        "                    # Track/compute gradient and make an optimization step only when training\n",
        "                    with torch.set_grad_enabled(phase == 'train'):\n",
        "                        outputs = model(inputs)\n",
        "                        print('output: ', outputs)\n",
        "                        #_, preds = torch.max(outputs, 1)\n",
        "                        print('labels: ', labels)\n",
        "                        loss = criterion(outputs, labels)\n",
        "                        if phase == 'train':\n",
        "                            loss.backward()\n",
        "                            optimizer.step()\n",
        "\n",
        "                    # Print iteration results\n",
        "                    running_loss += loss.item() * batch_size_\n",
        "                    batch_corrects = torch.sum(preds == labels.data).item()\n",
        "                    running_corrects += batch_corrects\n",
        "                    print('Phase: {} Epoch: {}/{} Iter: {}/{} Batch time: {:.4f}'.format(phase, epoch + 1, num_epochs, it + 1, n_batches + 1, time.time() - since_batch), end='\\r', flush=True)\n",
        "                    it += 1\n",
        "\n",
        "                # Print epoch results\n",
        "                epoch_loss = running_loss / dataset_sizes[phase]\n",
        "                epoch_acc = running_corrects / dataset_sizes[phase]\n",
        "                print('Phase: {} Epoch: {}/{} Loss: {:.4f} Acc: {:.4f}             '.format('train' if phase == 'train' else 'val  ', epoch + 1, num_epochs, epoch_loss, epoch_acc))\n",
        "\n",
        "                # Check if this is the best model wrt previous epochs\n",
        "                if phase == 'val' and epoch_acc > best_acc:\n",
        "                    best_acc = epoch_acc\n",
        "                    best_model_wts = copy.deepcopy(model.state_dict())\n",
        "                if phase == 'val' and epoch_loss < best_loss:\n",
        "                    best_loss = epoch_loss\n",
        "                if phase == 'train' and epoch_acc > best_acc_train:\n",
        "                    best_acc_train = epoch_acc\n",
        "                if phase == 'train' and epoch_loss < best_loss_train:\n",
        "                    best_loss_train = epoch_loss\n",
        "\n",
        "        # Print final results\n",
        "        model.load_state_dict(best_model_wts)\n",
        "        time_elapsed = time.time() - since\n",
        "        print('Training completed in {:.0f}m {:.0f}s'.format(time_elapsed // 60, time_elapsed % 60))\n",
        "        print('Best test loss: {:.4f} | Best test accuracy: {:.4f}'.format(best_loss, best_acc))\n",
        "        return model"
      ],
      "metadata": {
        "id": "LPbqy8NBlg9m"
      },
      "execution_count": 193,
      "outputs": []
    },
    {
      "cell_type": "code",
      "source": [
        "model_qcnn = train_qcnn(model_qcnn, criterion, optimizer_hybrid, exp_lr_scheduler, num_epochs=5)"
      ],
      "metadata": {
        "id": "T8wHQHJOYdDr"
      },
      "execution_count": null,
      "outputs": []
    },
    {
      "cell_type": "code",
      "execution_count": 10,
      "metadata": {
        "id": "DBbH2xggCXjB"
      },
      "outputs": [],
      "source": []
    },
    {
      "cell_type": "markdown",
      "source": [
        "## Train the Model"
      ],
      "metadata": {
        "id": "9rtRY2zvrqW9"
      }
    },
    {
      "cell_type": "code",
      "execution_count": 257,
      "metadata": {
        "id": "Kd1kRTUrCXjB"
      },
      "outputs": [],
      "source": [
        "model_hybrid = torchvision.models.resnet18(pretrained=True)\n",
        "\n",
        "for param in model_hybrid.parameters():\n",
        "    param.requires_grad = False\n",
        "\n",
        "if quantum:\n",
        "    model_hybrid.fc = Quantumnet()\n",
        "\n",
        "elif classical_model == '512_n':\n",
        "    model_hybrid.fc = nn.Linear(512,len(filtered_classes))\n",
        "\n",
        "# Use CUDA or CPU according to the \"device\" object.\n",
        "model_hybrid = model_hybrid.to(device)"
      ]
    },
    {
      "cell_type": "code",
      "execution_count": 218,
      "metadata": {
        "id": "9HE9BEWvCXjB"
      },
      "outputs": [],
      "source": [
        "criterion = nn.CrossEntropyLoss()"
      ]
    },
    {
      "cell_type": "markdown",
      "metadata": {
        "id": "uuuQqZ4MCXjB"
      },
      "source": [
        "We also initialize the *optimizer* which is called at each training step in order to update the weights of the model."
      ]
    },
    {
      "cell_type": "code",
      "execution_count": 219,
      "metadata": {
        "id": "oT0Y6OwECXjC"
      },
      "outputs": [],
      "source": [
        "optimizer_hybrid = optim.Adam(model_hybrid.fc.parameters(), lr=step)"
      ]
    },
    {
      "cell_type": "markdown",
      "metadata": {
        "id": "nWuLl0SfCXjC"
      },
      "source": [
        "We schedule to reduce the learning rate by a factor of `gamma_lr_scheduler` every epoch."
      ]
    },
    {
      "cell_type": "code",
      "execution_count": 220,
      "metadata": {
        "id": "RA97ukd7CXjC"
      },
      "outputs": [],
      "source": [
        "exp_lr_scheduler = lr_scheduler.StepLR(optimizer_hybrid, step_size=3, gamma=gamma_lr_scheduler)"
      ]
    },
    {
      "cell_type": "markdown",
      "metadata": {
        "id": "wJDasSA-CXjC"
      },
      "source": [
        "What follows is a training function that will be called later. This function should return a trained model that can be used to make predictions (classifications)."
      ]
    },
    {
      "cell_type": "code",
      "execution_count": 237,
      "metadata": {
        "id": "BP8ECVYhCXjC"
      },
      "outputs": [],
      "source": [
        "def train_model(model, criterion, optimizer, scheduler, num_epochs):\n",
        "        since = time.time()\n",
        "        best_model_wts = copy.deepcopy(model.state_dict())\n",
        "        best_acc = 0.0\n",
        "        best_loss = 10000.0   # Large arbitrary number\n",
        "        best_acc_train = 0.0\n",
        "        best_loss_train = 10000.0  # Large arbitrary number\n",
        "        print('Training started:')\n",
        "        for epoch in range(num_epochs):\n",
        "\n",
        "            # Each epoch has a training and validation phase\n",
        "            #for phase in ['train', 'val']:\n",
        "            for phase in ['train']:\n",
        "                if phase == 'train':\n",
        "                    # Set model to training mode\n",
        "                    scheduler.step()\n",
        "                    model.train()\n",
        "                else:\n",
        "                    # Set model to evaluate mode\n",
        "                    model.eval()\n",
        "\n",
        "                # Iteration loop\n",
        "                running_loss = 0.0\n",
        "                running_corrects = 0\n",
        "                n_batches = dataset_sizes[phase] // batch_size\n",
        "                it = 0\n",
        "                #for inputs, cifar_labels in tqdm(dataloaders[phase]):\n",
        "                for inputs, cifar_labels in dataloaders[phase]:\n",
        "                    since_batch = time.time()\n",
        "                    batch_size_ = len(inputs)\n",
        "                    inputs = inputs.to(device)\n",
        "                    labels = torch.tensor(labels_to_filtered(cifar_labels))\n",
        "                    labels = labels.to(device)\n",
        "                    optimizer.zero_grad()\n",
        "\n",
        "                    # Track/compute gradient and make an optimization step only when training\n",
        "                    with torch.set_grad_enabled(phase == 'train'):\n",
        "                        outputs = model(inputs)\n",
        "                        _, preds = torch.max(outputs, 1)\n",
        "                        loss = criterion(outputs, labels)\n",
        "                        if phase == 'train':\n",
        "                            loss.backward()\n",
        "                            optimizer.step()\n",
        "\n",
        "                    # Print iteration results\n",
        "                    running_loss += loss.item() * batch_size_\n",
        "                    batch_corrects = torch.sum(preds == labels.data).item()\n",
        "                    running_corrects += batch_corrects\n",
        "                    print('Phase: {} Epoch: {}/{} Iter: {}/{} Batch time: {:.4f}'.format(phase, epoch + 1, num_epochs, it + 1, n_batches + 1, time.time() - since_batch), end='\\r', flush=True)\n",
        "                    it += 1\n",
        "\n",
        "                # Print epoch results\n",
        "                epoch_loss = running_loss / dataset_sizes[phase]\n",
        "                epoch_acc = running_corrects / dataset_sizes[phase]\n",
        "                print('Phase: {} Epoch: {}/{} Loss: {:.4f} Acc: {:.4f}             '.format('train' if phase == 'train' else 'val  ', epoch + 1, num_epochs, epoch_loss, epoch_acc))\n",
        "\n",
        "                # Check if this is the best model wrt previous epochs\n",
        "                if phase == 'val' and epoch_acc > best_acc:\n",
        "                    best_acc = epoch_acc\n",
        "                    best_model_wts = copy.deepcopy(model.state_dict())\n",
        "                if phase == 'val' and epoch_loss < best_loss:\n",
        "                    best_loss = epoch_loss\n",
        "                if phase == 'train' and epoch_acc > best_acc_train:\n",
        "                    best_acc_train = epoch_acc\n",
        "                if phase == 'train' and epoch_loss < best_loss_train:\n",
        "                    best_loss_train = epoch_loss\n",
        "\n",
        "        # Print final results\n",
        "        model.load_state_dict(best_model_wts)\n",
        "        time_elapsed = time.time() - since\n",
        "        print('Training completed in {:.0f}m {:.0f}s'.format(time_elapsed // 60, time_elapsed % 60))\n",
        "        print('Best test loss: {:.4f} | Best test accuracy: {:.4f}'.format(best_loss, best_acc))\n",
        "        return model"
      ]
    },
    {
      "cell_type": "markdown",
      "metadata": {
        "id": "cJr3JQrcCXjC"
      },
      "source": [
        "We are ready perform the actual training process."
      ]
    },
    {
      "cell_type": "code",
      "execution_count": null,
      "metadata": {
        "id": "cLenbRq8CXjC"
      },
      "outputs": [],
      "source": [
        "model_hybrid = train_model(model_hybrid, criterion, optimizer_hybrid, exp_lr_scheduler, num_epochs=5)"
      ]
    },
    {
      "cell_type": "code",
      "execution_count": 60,
      "metadata": {
        "scrolled": true,
        "id": "f9I5oVY_CXjC",
        "outputId": "8cd7dc6b-6f36-48f9-accd-8d9088f6eacf",
        "colab": {
          "base_uri": "https://localhost:8080/"
        }
      },
      "outputs": [
        {
          "output_type": "stream",
          "name": "stdout",
          "text": [
            "Model state_dict saved.\n"
          ]
        }
      ],
      "source": [
        "if quantum:\n",
        "        torch.save(model_hybrid.state_dict(),\n",
        "            'quantum_' + filtered_classes[0] + '_' + filtered_classes[1] + '.pt'\n",
        "        )\n",
        "else:\n",
        "        torch.save(model_hybrid.state_dict(),\n",
        "            'classical_' + filtered_classes[0] + '_' + filtered_classes[1] + '.pt'\n",
        "        )\n",
        "print(\"Model state_dict saved.\")"
      ]
    },
    {
      "cell_type": "markdown",
      "metadata": {
        "id": "Rlll_QDVCXjJ"
      },
      "source": [
        "## Load model from file"
      ]
    },
    {
      "cell_type": "code",
      "source": [
        "quantum = True"
      ],
      "metadata": {
        "id": "-m8R7xBq0Ri1"
      },
      "execution_count": 248,
      "outputs": []
    },
    {
      "cell_type": "code",
      "source": [
        "model_hybrid = torchvision.models.resnet18(pretrained=True)\n",
        "\n",
        "for param in model_hybrid.parameters():\n",
        "    param.requires_grad = False\n",
        "\n",
        "if quantum:\n",
        "    model_hybrid.fc = Quantumnet()\n",
        "\n",
        "elif classical_model == '512_n':\n",
        "    model_hybrid.fc = nn.Linear(512,len(filtered_classes))\n",
        "\n",
        "# Use CUDA or CPU according to the \"device\" object.\n",
        "model_hybrid = model_hybrid.to(device)"
      ],
      "metadata": {
        "id": "-ui_WoM20XsF"
      },
      "execution_count": 258,
      "outputs": []
    },
    {
      "cell_type": "code",
      "execution_count": 259,
      "metadata": {
        "id": "RogV7nevCXjJ"
      },
      "outputs": [],
      "source": [
        "if quantum:\n",
        "    model_hybrid.load_state_dict(torch.load(\n",
        "        'quantum_' + filtered_classes[0] + '_' + filtered_classes[1] + '.pt'\n",
        "        )\n",
        "    )\n",
        "\n",
        "else:\n",
        "    model_hybrid.load_state_dict(torch.load(\n",
        "        'classical_' + filtered_classes[0] + '_' + filtered_classes[1] + '.pt'\n",
        "        )\n",
        "    )"
      ]
    },
    {
      "cell_type": "code",
      "source": [
        "#model_scripted = torch.jit.script(model_hybrid) # Export to TorchScript\n",
        "#model_scripted.save('qmodel.pt')"
      ],
      "metadata": {
        "id": "yAA48gCovXzN"
      },
      "execution_count": 213,
      "outputs": []
    },
    {
      "cell_type": "code",
      "source": [
        "model_hybrid.load_state_dict(torch.load('ep3_acc09.pt'))"
      ],
      "metadata": {
        "colab": {
          "base_uri": "https://localhost:8080/"
        },
        "id": "f3YtXXO27unF",
        "outputId": "3d988023-3daf-4fae-c316-74fbf8f67697"
      },
      "execution_count": 265,
      "outputs": [
        {
          "output_type": "execute_result",
          "data": {
            "text/plain": [
              "<All keys matched successfully>"
            ]
          },
          "metadata": {},
          "execution_count": 265
        }
      ]
    },
    {
      "cell_type": "markdown",
      "metadata": {
        "id": "cyVemVk7CXjJ"
      },
      "source": [
        "We apply the model to the test dataset to compute the associated *loss* and *accuracy*."
      ]
    },
    {
      "cell_type": "code",
      "execution_count": 266,
      "metadata": {
        "id": "fyr3sF5uCXjJ",
        "outputId": "ab52b7c6-dea1-46fa-a81b-9505851763de",
        "colab": {
          "base_uri": "https://localhost:8080/"
        }
      },
      "outputs": [
        {
          "output_type": "stream",
          "name": "stdout",
          "text": [
            "\n",
            "Test Loss: 0.3743 Test Acc: 0.9050        \n"
          ]
        }
      ],
      "source": [
        "criterion = nn.CrossEntropyLoss()\n",
        "running_loss = 0.0\n",
        "running_corrects = 0\n",
        "n_batches = dataset_sizes['val'] // batch_size\n",
        "it = 0\n",
        "model_hybrid.eval()\n",
        "\n",
        "# Testing loop\n",
        "for inputs, cifar_labels in dataloaders['val']:\n",
        "    inputs = inputs.to(device)\n",
        "    labels = torch.tensor(labels_to_filtered(cifar_labels))\n",
        "    labels = labels.to(device)\n",
        "    batch_size_ = len(inputs)\n",
        "    with torch.set_grad_enabled(False):\n",
        "        outputs = model_hybrid(inputs)\n",
        "        _, preds = torch.max(outputs, 1)\n",
        "        loss = criterion(outputs, labels)\n",
        "    running_loss += loss.item() * batch_size_\n",
        "    batch_corrects = torch.sum(preds == labels.data).item()\n",
        "    running_corrects += batch_corrects\n",
        "    print('Iter: {}/{}'.format(it+1,n_batches+1), end='\\r', flush=True)\n",
        "    it += 1\n",
        "\n",
        "# Print final results\n",
        "epoch_loss = running_loss / dataset_sizes['val']\n",
        "epoch_acc = running_corrects / dataset_sizes['val']\n",
        "print('\\nTest Loss: {:.4f} Test Acc: {:.4f}        '.format(epoch_loss, epoch_acc))"
      ]
    },
    {
      "cell_type": "markdown",
      "metadata": {
        "id": "W0GnyloNCXjJ"
      },
      "source": [
        "## Visualize the model\n",
        "Let us compute and the visualize the predictions for a batch of test data.\n",
        "*Hint:* re-run the next cell to see more samples."
      ]
    },
    {
      "cell_type": "code",
      "execution_count": 262,
      "metadata": {
        "id": "IEPlFyEiCXjK"
      },
      "outputs": [],
      "source": [
        "def visualize_model(model, num_images=6, fig_name='Predictions'):\n",
        "    images_so_far = 0\n",
        "    fig = plt.figure(fig_name)\n",
        "    model.eval()\n",
        "    with torch.no_grad():\n",
        "        for i, (inputs, cifar_labels) in enumerate(dataloaders['val']):\n",
        "            inputs = inputs.to(device)\n",
        "            labels = torch.tensor(labels_to_filtered(cifar_labels))\n",
        "            labels = labels.to(device)\n",
        "            outputs = model(inputs)\n",
        "            _, preds = torch.max(outputs, 1)\n",
        "            for j in range(inputs.size()[0]):\n",
        "                images_so_far += 1\n",
        "                ax = plt.subplot(num_images // 2, 2, images_so_far)\n",
        "                ax.axis('off')\n",
        "                ax.set_title('[{}]'.format(filtered_classes[preds[j]]))\n",
        "                imshow(inputs.cpu().data[j])\n",
        "                if images_so_far == num_images:\n",
        "                    return\n",
        "\n",
        "visualize_model(model_hybrid, num_images=4)\n"
      ]
    },
    {
      "cell_type": "code",
      "source": [
        "visualize_model(model_hybrid, num_images=4)\n"
      ],
      "metadata": {
        "id": "dQy9jYZW9Ro4"
      },
      "execution_count": 263,
      "outputs": []
    },
    {
      "cell_type": "markdown",
      "source": [
        "## Demo Script"
      ],
      "metadata": {
        "id": "5f02NpWbx0JL"
      }
    },
    {
      "cell_type": "code",
      "source": [
        "import pickle\n",
        "\n",
        "def demo(model):\n",
        "\n",
        "    with open('demo12', 'rb') as fo:\n",
        "        demodict = pickle.load(fo, encoding='bytes')\n",
        "    torch.no_grad()\n",
        "    fig,ax = plt.subplots(3, 4,figsize=(14,9))\n",
        "    t1=time.time()\n",
        "    correct=0\n",
        "    correct_labels=[0]*6+[1]*6\n",
        "    for i, origdata in enumerate(demodict[b'data']):\n",
        "        origdata=origdata.reshape((3,32*32)).transpose()\n",
        "        origdata=origdata.reshape(32,32,3)\n",
        "\n",
        "######### BELOW:preprocess the origdata for model input and predict using the model #######\n",
        "######### modify code in this block to predict ######################################\n",
        "        transform = transforms.Compose(\n",
        "            [transforms.ToTensor(),\n",
        "             #transforms.Resize(28, antialias=False),\n",
        "             transforms.Resize(256),\n",
        "              transforms.CenterCrop(224),\n",
        "             transforms.Normalize((0.485, 0.456, 0.406), (0.229, 0.224, 0.225))])\n",
        "        data=transform(origdata)\n",
        "        #data=data.reshape((1,3,28,28))\n",
        "        data=data.reshape((1,3,224,224))\n",
        "        output=model(data)\n",
        "        pred = output.argmax(dim=1, keepdim=True)\n",
        "        print(type(pred),pred.item(),correct_labels[i])\n",
        "        if pred.item()==correct_labels[i]:correct+=1\n",
        "###############################################################################################\n",
        "###########################  Do not change the code below #####################################\n",
        "        ax[i//4][i%4].axis('off')\n",
        "        ax[i//4][i%4].set_title(f'predicted: {filtered_classes[pred]}')\n",
        "        ax[i//4][i%4].imshow(origdata)\n",
        "    t2=time.time()\n",
        "    fig.suptitle('time taken={:6f} sec. Correct images {}'.format(t2-t1,correct),fontsize=16)\n",
        "    plt.savefig('ex.png')\n",
        "    plt.ioff()\n",
        "    plt.show()"
      ],
      "metadata": {
        "id": "sqNlscpBx2dk"
      },
      "execution_count": 251,
      "outputs": []
    },
    {
      "cell_type": "code",
      "source": [
        "demo(model_hybrid)"
      ],
      "metadata": {
        "colab": {
          "base_uri": "https://localhost:8080/",
          "height": 1000
        },
        "id": "rVszwCGRyECk",
        "outputId": "2b9eac30-68fd-4f25-f898-d73f3c753267"
      },
      "execution_count": 270,
      "outputs": [
        {
          "output_type": "stream",
          "name": "stdout",
          "text": [
            "<class 'torch.Tensor'> 0 0\n",
            "<class 'torch.Tensor'> 0 0\n",
            "<class 'torch.Tensor'> 0 0\n",
            "<class 'torch.Tensor'> 1 0\n",
            "<class 'torch.Tensor'> 0 0\n",
            "<class 'torch.Tensor'> 0 0\n",
            "<class 'torch.Tensor'> 1 1\n",
            "<class 'torch.Tensor'> 1 1\n",
            "<class 'torch.Tensor'> 1 1\n",
            "<class 'torch.Tensor'> 1 1\n",
            "<class 'torch.Tensor'> 1 1\n",
            "<class 'torch.Tensor'> 1 1\n"
          ]
        },
        {
          "output_type": "display_data",
          "data": {
            "text/plain": [
              "<Figure size 1400x900 with 12 Axes>"
            ],
            "image/png": "[encoded data removed]"
          },
          "metadata": {}
        }
      ]
    },
    {
      "cell_type": "markdown",
      "metadata": {
        "id": "jgwvvSYgCXjK"
      },
      "source": [
        "## References\n",
        "\n",
        "[1] Andrea Mari, Thomas R. Bromley, Josh Izaac, Maria Schuld, and Nathan Killoran. _Transfer learning in hybrid classical-quantum neural networks_. [arXiv:1912.08278](https://arxiv.org/abs/1912.08278), (2019).\n",
        "\n",
        "[2] Sasank Chilamkurthy. PyTorch transfer learning tutorial. https://pytorch.org/tutorials/beginner/transfer_learning_tutorial.html.\n",
        "\n",
        "[3] Kaiming He, Xiangyu Zhang, Shaoqing ren and Jian Sun. _Deep residual learning for image recognition_.\n",
        "  Proceedings of the IEEE Conference on Computer Vision and Pattern Recognition, 770-778 (2016). [DOI: 10.1109/CVPR.2016.90]( https://doi.org/10.1109/CVPR.2016.90).\n",
        "  \n",
        "[4] Ville Bergholm, Josh Izaac, Maria Schuld, Christian Gogolin, Carsten Blank, Keri McKiernan, and Nathan Killoran. PennyLane: Automatic differentiation of hybrid quantum-classical computations. [arXiv:1811.04968](https://arxiv.org/abs/1811.04968), (2018).\n",
        "\n",
        "[5] https://github.com/XanaduAI/quantum-transfer-learning/blob/master/c2q_transfer_learning_cifar.ipynb"
      ]
    },
    {
      "cell_type": "code",
      "source": [],
      "metadata": {
        "id": "x3dJzDjpAkjv"
      },
      "execution_count": null,
      "outputs": []
    }
  ],
  "metadata": {
    "file_extension": ".py",
    "kernelspec": {
      "display_name": "Python 3",
      "language": "python",
      "name": "python3"
    },
    "language_info": {
      "codemirror_mode": {
        "name": "ipython",
        "version": 3
      },
      "file_extension": ".py",
      "mimetype": "text/x-python",
      "name": "python",
      "nbconvert_exporter": "python",
      "pygments_lexer": "ipython3",
      "version": "3.7.5"
    },
    "mimetype": "text/x-python",
    "name": "python",
    "npconvert_exporter": "python",
    "pygments_lexer": "ipython3",
    "version": 3,
    "colab": {
      "provenance": []
    }
  },
  "nbformat": 4,
  "nbformat_minor": 0
}